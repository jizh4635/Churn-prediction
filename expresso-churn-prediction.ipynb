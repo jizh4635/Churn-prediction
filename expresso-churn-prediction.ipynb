{
 "cells": [
  {
   "cell_type": "code",
   "execution_count": null,
   "id": "e2a60eed",
   "metadata": {
    "_cell_guid": "b1076dfc-b9ad-4769-8c92-a6c4dae69d19",
    "_uuid": "8f2839f25d086af736a60e9eeb907d3b93b6e0e5",
    "execution": {
     "iopub.execute_input": "2023-05-03T08:55:38.445992Z",
     "iopub.status.busy": "2023-05-03T08:55:38.445256Z",
     "iopub.status.idle": "2023-05-03T08:55:38.459465Z",
     "shell.execute_reply": "2023-05-03T08:55:38.458695Z",
     "shell.execute_reply.started": "2023-05-03T08:55:38.445959Z"
    },
    "papermill": {
     "duration": 0.005687,
     "end_time": "2023-05-03T10:31:21.252614",
     "exception": false,
     "start_time": "2023-05-03T10:31:21.246927",
     "status": "completed"
    },
    "tags": []
   },
   "outputs": [],
   "source": []
  },
  {
   "cell_type": "markdown",
   "id": "7d1f3398",
   "metadata": {
    "papermill": {
     "duration": 0.004194,
     "end_time": "2023-05-03T10:31:21.261873",
     "exception": false,
     "start_time": "2023-05-03T10:31:21.257679",
     "status": "completed"
    },
    "tags": []
   },
   "source": [
    "# 1. Problem\n",
    "<div style=\"position:relative\">\n",
    "  <div style=\"float:right; margin:0 0 1em 1em\">\n",
    "    <img src=\"https://zindpublic.blob.core.windows.net/public/uploads/image_attachment/image/434/969398cc-ff57-4c11-95be-7f3a47652251.png\" alt=\"Portrait\" width=\"100\">\n",
    "  </div>\n",
    "  <div style=\"margin-top:50px\">\n",
    "    <p><b>Expresso</b> is an African telecommunications company that provides customers with airtime and mobile data bundles. The objective of this challenge is to develop a machine learning model to predict the likelihood of each Expresso customer “churning” .</p>\n",
    "    <p><b>Defination of Churning</b>\n",
    "      A customer who is becoming inactive and not making any transactions for 90 days.\n",
    "    </p>\n",
    "  </div>\n",
    "</div>"
   ]
  },
  {
   "cell_type": "markdown",
   "id": "8c9ac399",
   "metadata": {
    "papermill": {
     "duration": 0.003905,
     "end_time": "2023-05-03T10:31:21.270161",
     "exception": false,
     "start_time": "2023-05-03T10:31:21.266256",
     "status": "completed"
    },
    "tags": []
   },
   "source": [
    "# 2. EDA, DP & FE\n",
    "\n",
    "We are going to follow the process below to figure it out before we do data modeling.\n",
    "\n",
    "<img src=https://miro.medium.com/v2/resize:fit:1400/format:webp/1*c9mmBc2UJ-aQRGANRP0bJg.png width=600 />"
   ]
  },
  {
   "cell_type": "markdown",
   "id": "177e6184",
   "metadata": {
    "papermill": {
     "duration": 0.004146,
     "end_time": "2023-05-03T10:31:21.278544",
     "exception": false,
     "start_time": "2023-05-03T10:31:21.274398",
     "status": "completed"
    },
    "tags": []
   },
   "source": [
    "**2.1 Exploratory data analysis**"
   ]
  },
  {
   "cell_type": "markdown",
   "id": "7409adbc",
   "metadata": {
    "papermill": {
     "duration": 0.004311,
     "end_time": "2023-05-03T10:31:21.287013",
     "exception": false,
     "start_time": "2023-05-03T10:31:21.282702",
     "status": "completed"
    },
    "tags": []
   },
   "source": [
    "Load the data from Kaggle/input directory. Show top 5 records of the dataframe."
   ]
  },
  {
   "cell_type": "code",
   "execution_count": 1,
   "id": "e2e494ff",
   "metadata": {
    "execution": {
     "iopub.execute_input": "2023-05-03T10:31:21.297431Z",
     "iopub.status.busy": "2023-05-03T10:31:21.297103Z",
     "iopub.status.idle": "2023-05-03T10:31:31.621408Z",
     "shell.execute_reply": "2023-05-03T10:31:31.620463Z"
    },
    "papermill": {
     "duration": 10.332727,
     "end_time": "2023-05-03T10:31:31.623819",
     "exception": false,
     "start_time": "2023-05-03T10:31:21.291092",
     "status": "completed"
    },
    "tags": []
   },
   "outputs": [
    {
     "name": "stdout",
     "output_type": "stream",
     "text": [
      "/kaggle/input/expresso-churn-prediction-challenge/SampleSubmission.csv\n",
      "/kaggle/input/expresso-churn-prediction-challenge/Train.csv\n",
      "/kaggle/input/expresso-churn-prediction-challenge/Test.csv\n"
     ]
    },
    {
     "data": {
      "text/html": [
       "<div>\n",
       "<style scoped>\n",
       "    .dataframe tbody tr th:only-of-type {\n",
       "        vertical-align: middle;\n",
       "    }\n",
       "\n",
       "    .dataframe tbody tr th {\n",
       "        vertical-align: top;\n",
       "    }\n",
       "\n",
       "    .dataframe thead th {\n",
       "        text-align: right;\n",
       "    }\n",
       "</style>\n",
       "<table border=\"1\" class=\"dataframe\">\n",
       "  <thead>\n",
       "    <tr style=\"text-align: right;\">\n",
       "      <th></th>\n",
       "      <th>user_id</th>\n",
       "      <th>REGION</th>\n",
       "      <th>TENURE</th>\n",
       "      <th>MONTANT</th>\n",
       "      <th>FREQUENCE_RECH</th>\n",
       "      <th>REVENUE</th>\n",
       "      <th>ARPU_SEGMENT</th>\n",
       "      <th>FREQUENCE</th>\n",
       "      <th>DATA_VOLUME</th>\n",
       "      <th>ON_NET</th>\n",
       "      <th>ORANGE</th>\n",
       "      <th>TIGO</th>\n",
       "      <th>ZONE1</th>\n",
       "      <th>ZONE2</th>\n",
       "      <th>MRG</th>\n",
       "      <th>REGULARITY</th>\n",
       "      <th>TOP_PACK</th>\n",
       "      <th>FREQ_TOP_PACK</th>\n",
       "      <th>CHURN</th>\n",
       "    </tr>\n",
       "  </thead>\n",
       "  <tbody>\n",
       "    <tr>\n",
       "      <th>0</th>\n",
       "      <td>00000bfd7d50f01092811bc0c8d7b0d6fe7c3596</td>\n",
       "      <td>FATICK</td>\n",
       "      <td>K &gt; 24 month</td>\n",
       "      <td>4250.0</td>\n",
       "      <td>15.0</td>\n",
       "      <td>4251.0</td>\n",
       "      <td>1417.0</td>\n",
       "      <td>17.0</td>\n",
       "      <td>4.0</td>\n",
       "      <td>388.0</td>\n",
       "      <td>46.0</td>\n",
       "      <td>1.0</td>\n",
       "      <td>1.0</td>\n",
       "      <td>2.0</td>\n",
       "      <td>NO</td>\n",
       "      <td>54</td>\n",
       "      <td>On net 200F=Unlimited _call24H</td>\n",
       "      <td>8.0</td>\n",
       "      <td>0</td>\n",
       "    </tr>\n",
       "    <tr>\n",
       "      <th>1</th>\n",
       "      <td>00000cb4a5d760de88fecb38e2f71b7bec52e834</td>\n",
       "      <td>NaN</td>\n",
       "      <td>I 18-21 month</td>\n",
       "      <td>NaN</td>\n",
       "      <td>NaN</td>\n",
       "      <td>NaN</td>\n",
       "      <td>NaN</td>\n",
       "      <td>NaN</td>\n",
       "      <td>NaN</td>\n",
       "      <td>NaN</td>\n",
       "      <td>NaN</td>\n",
       "      <td>NaN</td>\n",
       "      <td>NaN</td>\n",
       "      <td>NaN</td>\n",
       "      <td>NO</td>\n",
       "      <td>4</td>\n",
       "      <td>NaN</td>\n",
       "      <td>NaN</td>\n",
       "      <td>1</td>\n",
       "    </tr>\n",
       "    <tr>\n",
       "      <th>2</th>\n",
       "      <td>00001654a9d9f96303d9969d0a4a851714a4bb57</td>\n",
       "      <td>NaN</td>\n",
       "      <td>K &gt; 24 month</td>\n",
       "      <td>3600.0</td>\n",
       "      <td>2.0</td>\n",
       "      <td>1020.0</td>\n",
       "      <td>340.0</td>\n",
       "      <td>2.0</td>\n",
       "      <td>NaN</td>\n",
       "      <td>90.0</td>\n",
       "      <td>46.0</td>\n",
       "      <td>7.0</td>\n",
       "      <td>NaN</td>\n",
       "      <td>NaN</td>\n",
       "      <td>NO</td>\n",
       "      <td>17</td>\n",
       "      <td>On-net 1000F=10MilF;10d</td>\n",
       "      <td>1.0</td>\n",
       "      <td>0</td>\n",
       "    </tr>\n",
       "    <tr>\n",
       "      <th>3</th>\n",
       "      <td>00001dd6fa45f7ba044bd5d84937be464ce78ac2</td>\n",
       "      <td>DAKAR</td>\n",
       "      <td>K &gt; 24 month</td>\n",
       "      <td>13500.0</td>\n",
       "      <td>15.0</td>\n",
       "      <td>13502.0</td>\n",
       "      <td>4501.0</td>\n",
       "      <td>18.0</td>\n",
       "      <td>43804.0</td>\n",
       "      <td>41.0</td>\n",
       "      <td>102.0</td>\n",
       "      <td>2.0</td>\n",
       "      <td>NaN</td>\n",
       "      <td>NaN</td>\n",
       "      <td>NO</td>\n",
       "      <td>62</td>\n",
       "      <td>Data:1000F=5GB,7d</td>\n",
       "      <td>11.0</td>\n",
       "      <td>0</td>\n",
       "    </tr>\n",
       "    <tr>\n",
       "      <th>4</th>\n",
       "      <td>000028d9e13a595abe061f9b58f3d76ab907850f</td>\n",
       "      <td>DAKAR</td>\n",
       "      <td>K &gt; 24 month</td>\n",
       "      <td>1000.0</td>\n",
       "      <td>1.0</td>\n",
       "      <td>985.0</td>\n",
       "      <td>328.0</td>\n",
       "      <td>1.0</td>\n",
       "      <td>NaN</td>\n",
       "      <td>39.0</td>\n",
       "      <td>24.0</td>\n",
       "      <td>NaN</td>\n",
       "      <td>NaN</td>\n",
       "      <td>NaN</td>\n",
       "      <td>NO</td>\n",
       "      <td>11</td>\n",
       "      <td>Mixt 250F=Unlimited_call24H</td>\n",
       "      <td>2.0</td>\n",
       "      <td>0</td>\n",
       "    </tr>\n",
       "  </tbody>\n",
       "</table>\n",
       "</div>"
      ],
      "text/plain": [
       "                                    user_id  REGION         TENURE  MONTANT   \n",
       "0  00000bfd7d50f01092811bc0c8d7b0d6fe7c3596  FATICK   K > 24 month   4250.0  \\\n",
       "1  00000cb4a5d760de88fecb38e2f71b7bec52e834     NaN  I 18-21 month      NaN   \n",
       "2  00001654a9d9f96303d9969d0a4a851714a4bb57     NaN   K > 24 month   3600.0   \n",
       "3  00001dd6fa45f7ba044bd5d84937be464ce78ac2   DAKAR   K > 24 month  13500.0   \n",
       "4  000028d9e13a595abe061f9b58f3d76ab907850f   DAKAR   K > 24 month   1000.0   \n",
       "\n",
       "   FREQUENCE_RECH  REVENUE  ARPU_SEGMENT  FREQUENCE  DATA_VOLUME  ON_NET   \n",
       "0            15.0   4251.0        1417.0       17.0          4.0   388.0  \\\n",
       "1             NaN      NaN           NaN        NaN          NaN     NaN   \n",
       "2             2.0   1020.0         340.0        2.0          NaN    90.0   \n",
       "3            15.0  13502.0        4501.0       18.0      43804.0    41.0   \n",
       "4             1.0    985.0         328.0        1.0          NaN    39.0   \n",
       "\n",
       "   ORANGE  TIGO  ZONE1  ZONE2 MRG  REGULARITY                        TOP_PACK   \n",
       "0    46.0   1.0    1.0    2.0  NO          54  On net 200F=Unlimited _call24H  \\\n",
       "1     NaN   NaN    NaN    NaN  NO           4                             NaN   \n",
       "2    46.0   7.0    NaN    NaN  NO          17         On-net 1000F=10MilF;10d   \n",
       "3   102.0   2.0    NaN    NaN  NO          62               Data:1000F=5GB,7d   \n",
       "4    24.0   NaN    NaN    NaN  NO          11     Mixt 250F=Unlimited_call24H   \n",
       "\n",
       "   FREQ_TOP_PACK  CHURN  \n",
       "0            8.0      0  \n",
       "1            NaN      1  \n",
       "2            1.0      0  \n",
       "3           11.0      0  \n",
       "4            2.0      0  "
      ]
     },
     "execution_count": 1,
     "metadata": {},
     "output_type": "execute_result"
    }
   ],
   "source": [
    "import numpy as np # linear algebra\n",
    "import pandas as pd # data processing, CSV file I/O (e.g. pd.read_csv)\n",
    "\n",
    "#import seaborn as sns\n",
    "import matplotlib.pyplot as plt\n",
    "\n",
    "import os\n",
    "for dirname, _, filenames in os.walk('/kaggle/input'):\n",
    "    for filename in filenames:\n",
    "        print(os.path.join(dirname, filename))\n",
    "\n",
    "df = pd.read_csv('/kaggle/input/expresso-churn-prediction-challenge/Train.csv')\n",
    "df.head()"
   ]
  },
  {
   "cell_type": "markdown",
   "id": "96cc0af2",
   "metadata": {
    "papermill": {
     "duration": 0.004437,
     "end_time": "2023-05-03T10:31:31.633405",
     "exception": false,
     "start_time": "2023-05-03T10:31:31.628968",
     "status": "completed"
    },
    "tags": []
   },
   "source": [
    "Drop unnecessary columns, delete rows with values of NA, remove duplicates."
   ]
  },
  {
   "cell_type": "code",
   "execution_count": 2,
   "id": "c2503b51",
   "metadata": {
    "execution": {
     "iopub.execute_input": "2023-05-03T10:31:31.644983Z",
     "iopub.status.busy": "2023-05-03T10:31:31.644105Z",
     "iopub.status.idle": "2023-05-03T10:31:33.817728Z",
     "shell.execute_reply": "2023-05-03T10:31:33.816808Z"
    },
    "papermill": {
     "duration": 2.181843,
     "end_time": "2023-05-03T10:31:33.820071",
     "exception": false,
     "start_time": "2023-05-03T10:31:31.638228",
     "status": "completed"
    },
    "tags": []
   },
   "outputs": [
    {
     "data": {
      "text/html": [
       "<div>\n",
       "<style scoped>\n",
       "    .dataframe tbody tr th:only-of-type {\n",
       "        vertical-align: middle;\n",
       "    }\n",
       "\n",
       "    .dataframe tbody tr th {\n",
       "        vertical-align: top;\n",
       "    }\n",
       "\n",
       "    .dataframe thead th {\n",
       "        text-align: right;\n",
       "    }\n",
       "</style>\n",
       "<table border=\"1\" class=\"dataframe\">\n",
       "  <thead>\n",
       "    <tr style=\"text-align: right;\">\n",
       "      <th></th>\n",
       "      <th>MONTANT</th>\n",
       "      <th>FREQUENCE_RECH</th>\n",
       "      <th>REVENUE</th>\n",
       "      <th>ARPU_SEGMENT</th>\n",
       "      <th>FREQUENCE</th>\n",
       "      <th>DATA_VOLUME</th>\n",
       "      <th>ON_NET</th>\n",
       "      <th>ORANGE</th>\n",
       "      <th>TIGO</th>\n",
       "      <th>ZONE1</th>\n",
       "      <th>ZONE2</th>\n",
       "      <th>REGULARITY</th>\n",
       "      <th>FREQ_TOP_PACK</th>\n",
       "      <th>CHURN</th>\n",
       "    </tr>\n",
       "  </thead>\n",
       "  <tbody>\n",
       "    <tr>\n",
       "      <th>count</th>\n",
       "      <td>10839.000000</td>\n",
       "      <td>10839.000000</td>\n",
       "      <td>10839.000000</td>\n",
       "      <td>10839.000000</td>\n",
       "      <td>10839.000000</td>\n",
       "      <td>10839.000000</td>\n",
       "      <td>10839.000000</td>\n",
       "      <td>10839.000000</td>\n",
       "      <td>10839.000000</td>\n",
       "      <td>10839.000000</td>\n",
       "      <td>10839.000000</td>\n",
       "      <td>10839.000000</td>\n",
       "      <td>10839.000000</td>\n",
       "      <td>10839.000000</td>\n",
       "    </tr>\n",
       "    <tr>\n",
       "      <th>mean</th>\n",
       "      <td>16442.895931</td>\n",
       "      <td>27.111818</td>\n",
       "      <td>16732.591106</td>\n",
       "      <td>5577.532152</td>\n",
       "      <td>33.330012</td>\n",
       "      <td>7301.918350</td>\n",
       "      <td>432.547837</td>\n",
       "      <td>234.347357</td>\n",
       "      <td>36.493680</td>\n",
       "      <td>9.877203</td>\n",
       "      <td>9.285451</td>\n",
       "      <td>55.306394</td>\n",
       "      <td>18.780054</td>\n",
       "      <td>0.001476</td>\n",
       "    </tr>\n",
       "    <tr>\n",
       "      <th>std</th>\n",
       "      <td>13816.040978</td>\n",
       "      <td>19.025954</td>\n",
       "      <td>13975.663695</td>\n",
       "      <td>4658.554268</td>\n",
       "      <td>19.076706</td>\n",
       "      <td>12869.651518</td>\n",
       "      <td>1117.130791</td>\n",
       "      <td>348.501459</td>\n",
       "      <td>86.058411</td>\n",
       "      <td>49.879415</td>\n",
       "      <td>29.901377</td>\n",
       "      <td>10.060160</td>\n",
       "      <td>20.025398</td>\n",
       "      <td>0.038394</td>\n",
       "    </tr>\n",
       "    <tr>\n",
       "      <th>min</th>\n",
       "      <td>200.000000</td>\n",
       "      <td>1.000000</td>\n",
       "      <td>198.000000</td>\n",
       "      <td>66.000000</td>\n",
       "      <td>1.000000</td>\n",
       "      <td>0.000000</td>\n",
       "      <td>0.000000</td>\n",
       "      <td>0.000000</td>\n",
       "      <td>0.000000</td>\n",
       "      <td>0.000000</td>\n",
       "      <td>0.000000</td>\n",
       "      <td>1.000000</td>\n",
       "      <td>1.000000</td>\n",
       "      <td>0.000000</td>\n",
       "    </tr>\n",
       "    <tr>\n",
       "      <th>25%</th>\n",
       "      <td>7800.000000</td>\n",
       "      <td>12.000000</td>\n",
       "      <td>7998.000000</td>\n",
       "      <td>2666.000000</td>\n",
       "      <td>18.000000</td>\n",
       "      <td>4.000000</td>\n",
       "      <td>19.000000</td>\n",
       "      <td>38.000000</td>\n",
       "      <td>3.000000</td>\n",
       "      <td>0.000000</td>\n",
       "      <td>0.000000</td>\n",
       "      <td>52.000000</td>\n",
       "      <td>6.000000</td>\n",
       "      <td>0.000000</td>\n",
       "    </tr>\n",
       "    <tr>\n",
       "      <th>50%</th>\n",
       "      <td>13000.000000</td>\n",
       "      <td>23.000000</td>\n",
       "      <td>13352.000000</td>\n",
       "      <td>4451.000000</td>\n",
       "      <td>30.000000</td>\n",
       "      <td>2082.000000</td>\n",
       "      <td>88.000000</td>\n",
       "      <td>116.000000</td>\n",
       "      <td>11.000000</td>\n",
       "      <td>1.000000</td>\n",
       "      <td>2.000000</td>\n",
       "      <td>60.000000</td>\n",
       "      <td>13.000000</td>\n",
       "      <td>0.000000</td>\n",
       "    </tr>\n",
       "    <tr>\n",
       "      <th>75%</th>\n",
       "      <td>20900.000000</td>\n",
       "      <td>38.000000</td>\n",
       "      <td>21217.000000</td>\n",
       "      <td>7072.500000</td>\n",
       "      <td>45.000000</td>\n",
       "      <td>9562.000000</td>\n",
       "      <td>354.000000</td>\n",
       "      <td>296.000000</td>\n",
       "      <td>35.000000</td>\n",
       "      <td>4.000000</td>\n",
       "      <td>6.000000</td>\n",
       "      <td>62.000000</td>\n",
       "      <td>25.000000</td>\n",
       "      <td>0.000000</td>\n",
       "    </tr>\n",
       "    <tr>\n",
       "      <th>max</th>\n",
       "      <td>235000.000000</td>\n",
       "      <td>131.000000</td>\n",
       "      <td>226150.000000</td>\n",
       "      <td>75383.000000</td>\n",
       "      <td>91.000000</td>\n",
       "      <td>201413.000000</td>\n",
       "      <td>19950.000000</td>\n",
       "      <td>5543.000000</td>\n",
       "      <td>2144.000000</td>\n",
       "      <td>1609.000000</td>\n",
       "      <td>1324.000000</td>\n",
       "      <td>62.000000</td>\n",
       "      <td>560.000000</td>\n",
       "      <td>1.000000</td>\n",
       "    </tr>\n",
       "  </tbody>\n",
       "</table>\n",
       "</div>"
      ],
      "text/plain": [
       "             MONTANT  FREQUENCE_RECH        REVENUE  ARPU_SEGMENT   \n",
       "count   10839.000000    10839.000000   10839.000000  10839.000000  \\\n",
       "mean    16442.895931       27.111818   16732.591106   5577.532152   \n",
       "std     13816.040978       19.025954   13975.663695   4658.554268   \n",
       "min       200.000000        1.000000     198.000000     66.000000   \n",
       "25%      7800.000000       12.000000    7998.000000   2666.000000   \n",
       "50%     13000.000000       23.000000   13352.000000   4451.000000   \n",
       "75%     20900.000000       38.000000   21217.000000   7072.500000   \n",
       "max    235000.000000      131.000000  226150.000000  75383.000000   \n",
       "\n",
       "          FREQUENCE    DATA_VOLUME        ON_NET        ORANGE          TIGO   \n",
       "count  10839.000000   10839.000000  10839.000000  10839.000000  10839.000000  \\\n",
       "mean      33.330012    7301.918350    432.547837    234.347357     36.493680   \n",
       "std       19.076706   12869.651518   1117.130791    348.501459     86.058411   \n",
       "min        1.000000       0.000000      0.000000      0.000000      0.000000   \n",
       "25%       18.000000       4.000000     19.000000     38.000000      3.000000   \n",
       "50%       30.000000    2082.000000     88.000000    116.000000     11.000000   \n",
       "75%       45.000000    9562.000000    354.000000    296.000000     35.000000   \n",
       "max       91.000000  201413.000000  19950.000000   5543.000000   2144.000000   \n",
       "\n",
       "              ZONE1         ZONE2    REGULARITY  FREQ_TOP_PACK         CHURN  \n",
       "count  10839.000000  10839.000000  10839.000000   10839.000000  10839.000000  \n",
       "mean       9.877203      9.285451     55.306394      18.780054      0.001476  \n",
       "std       49.879415     29.901377     10.060160      20.025398      0.038394  \n",
       "min        0.000000      0.000000      1.000000       1.000000      0.000000  \n",
       "25%        0.000000      0.000000     52.000000       6.000000      0.000000  \n",
       "50%        1.000000      2.000000     60.000000      13.000000      0.000000  \n",
       "75%        4.000000      6.000000     62.000000      25.000000      0.000000  \n",
       "max     1609.000000   1324.000000     62.000000     560.000000      1.000000  "
      ]
     },
     "execution_count": 2,
     "metadata": {},
     "output_type": "execute_result"
    }
   ],
   "source": [
    "df.columns\n",
    "\n",
    "df = df.drop(['user_id'], axis=1, errors='ignore') # delete the two columns that don't affect our model\n",
    "df.duplicated().sum() # check duplicates\n",
    "df = df.dropna() # drop lines with NaN\n",
    "\n",
    "#df.head()\n",
    "df.describe()"
   ]
  },
  {
   "cell_type": "markdown",
   "id": "e0fc1681",
   "metadata": {
    "papermill": {
     "duration": 0.005575,
     "end_time": "2023-05-03T10:31:33.831598",
     "exception": false,
     "start_time": "2023-05-03T10:31:33.826023",
     "status": "completed"
    },
    "tags": []
   },
   "source": [
    "**2.2 Data Preprecessing**"
   ]
  },
  {
   "cell_type": "code",
   "execution_count": 3,
   "id": "f4ab8b11",
   "metadata": {
    "execution": {
     "iopub.execute_input": "2023-05-03T10:31:33.845554Z",
     "iopub.status.busy": "2023-05-03T10:31:33.844635Z",
     "iopub.status.idle": "2023-05-03T10:31:35.338643Z",
     "shell.execute_reply": "2023-05-03T10:31:35.337795Z"
    },
    "papermill": {
     "duration": 1.503379,
     "end_time": "2023-05-03T10:31:35.340700",
     "exception": false,
     "start_time": "2023-05-03T10:31:33.837321",
     "status": "completed"
    },
    "tags": []
   },
   "outputs": [
    {
     "name": "stdout",
     "output_type": "stream",
     "text": [
      "<class 'pandas.core.frame.DataFrame'>\n",
      "Index: 10839 entries, 0 to 2153831\n",
      "Data columns (total 18 columns):\n",
      " #   Column          Non-Null Count  Dtype  \n",
      "---  ------          --------------  -----  \n",
      " 0   REGION          10839 non-null  object \n",
      " 1   TENURE          10839 non-null  object \n",
      " 2   MONTANT         10839 non-null  float64\n",
      " 3   FREQUENCE_RECH  10839 non-null  float64\n",
      " 4   REVENUE         10839 non-null  float64\n",
      " 5   ARPU_SEGMENT    10839 non-null  float64\n",
      " 6   FREQUENCE       10839 non-null  float64\n",
      " 7   DATA_VOLUME     10839 non-null  float64\n",
      " 8   ON_NET          10839 non-null  float64\n",
      " 9   ORANGE          10839 non-null  float64\n",
      " 10  TIGO            10839 non-null  float64\n",
      " 11  ZONE1           10839 non-null  float64\n",
      " 12  ZONE2           10839 non-null  float64\n",
      " 13  MRG             10839 non-null  object \n",
      " 14  REGULARITY      10839 non-null  int64  \n",
      " 15  TOP_PACK        10839 non-null  object \n",
      " 16  FREQ_TOP_PACK   10839 non-null  float64\n",
      " 17  CHURN           10839 non-null  int64  \n",
      "dtypes: float64(12), int64(2), object(4)\n",
      "memory usage: 1.6+ MB\n"
     ]
    }
   ],
   "source": [
    "from sklearn.preprocessing import LabelEncoder\n",
    "le = LabelEncoder()\n",
    "\n",
    "df.info() \n",
    "\n",
    "# data types of ‘object’ are not suitable for ML model input.\n",
    "df.MRG = le.fit_transform(df.MRG)\n",
    "df.TENURE = le.fit_transform(df.TENURE)\n",
    "df.REGION = le.fit_transform(df.REGION)\n",
    "df.TOP_PACK = le.fit_transform(df.TOP_PACK)"
   ]
  },
  {
   "cell_type": "markdown",
   "id": "c0c16493",
   "metadata": {
    "papermill": {
     "duration": 0.005085,
     "end_time": "2023-05-03T10:31:35.351344",
     "exception": false,
     "start_time": "2023-05-03T10:31:35.346259",
     "status": "completed"
    },
    "tags": []
   },
   "source": [
    "Visualize our data."
   ]
  },
  {
   "cell_type": "code",
   "execution_count": 4,
   "id": "620a482c",
   "metadata": {
    "execution": {
     "iopub.execute_input": "2023-05-03T10:31:35.364212Z",
     "iopub.status.busy": "2023-05-03T10:31:35.363505Z",
     "iopub.status.idle": "2023-05-03T10:31:38.188157Z",
     "shell.execute_reply": "2023-05-03T10:31:38.187372Z"
    },
    "papermill": {
     "duration": 2.833476,
     "end_time": "2023-05-03T10:31:38.190734",
     "exception": false,
     "start_time": "2023-05-03T10:31:35.357258",
     "status": "completed"
    },
    "tags": []
   },
   "outputs": [
    {
     "data": {
      "image/png": "[encoded data removed]",
      "text/plain": [
       "<Figure size 1500x1500 with 18 Axes>"
      ]
     },
     "metadata": {},
     "output_type": "display_data"
    }
   ],
   "source": [
    "import matplotlib.pyplot as plt\n",
    "import matplotlib.font_manager as fm\n",
    "\n",
    "\n",
    "fig, axs = plt.subplots(nrows=6, ncols=3, figsize=(15, 15))\n",
    "\n",
    "for idx, column in enumerate(df.columns):\n",
    "    row = idx // 3\n",
    "    col = idx % 3\n",
    "    #axs[row, col].scatter(df.index, df[column])\n",
    "    axs[row, col].hist(df[column])\n",
    "        \n",
    "    axs[row, col].set_title(column)\n",
    "\n",
    "plt.subplots_adjust(hspace=0.5, wspace=0.3)\n",
    "\n",
    "plt.show()"
   ]
  },
  {
   "cell_type": "markdown",
   "id": "06f1d4dc",
   "metadata": {
    "papermill": {
     "duration": 0.005765,
     "end_time": "2023-05-03T10:31:38.203056",
     "exception": false,
     "start_time": "2023-05-03T10:31:38.197291",
     "status": "completed"
    },
    "tags": []
   },
   "source": [
    "**2.3 Feature Engineering**"
   ]
  },
  {
   "cell_type": "markdown",
   "id": "9c72f253",
   "metadata": {
    "papermill": {
     "duration": 0.005745,
     "end_time": "2023-05-03T10:31:38.214982",
     "exception": false,
     "start_time": "2023-05-03T10:31:38.209237",
     "status": "completed"
    },
    "tags": []
   },
   "source": [
    "# 3. Data Modeling"
   ]
  },
  {
   "cell_type": "markdown",
   "id": "fb87f58b",
   "metadata": {
    "papermill": {
     "duration": 0.006362,
     "end_time": "2023-05-03T10:31:38.227336",
     "exception": false,
     "start_time": "2023-05-03T10:31:38.220974",
     "status": "completed"
    },
    "tags": []
   },
   "source": [
    "# 5. Conclusion"
   ]
  }
 ],
 "metadata": {
  "kernelspec": {
   "display_name": "Python 3",
   "language": "python",
   "name": "python3"
  },
  "language_info": {
   "codemirror_mode": {
    "name": "ipython",
    "version": 3
   },
   "file_extension": ".py",
   "mimetype": "text/x-python",
   "name": "python",
   "nbconvert_exporter": "python",
   "pygments_lexer": "ipython3",
   "version": "3.8.16"
  },
  "papermill": {
   "default_parameters": {},
   "duration": 20.013932,
   "end_time": "2023-05-03T10:31:38.752561",
   "environment_variables": {},
   "exception": null,
   "input_path": "__notebook__.ipynb",
   "output_path": "__notebook__.ipynb",
   "parameters": {},
   "start_time": "2023-05-03T10:31:18.738629",
   "version": "2.4.0"
  }
 },
 "nbformat": 4,
 "nbformat_minor": 5
}